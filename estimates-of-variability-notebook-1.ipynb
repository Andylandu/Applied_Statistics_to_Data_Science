{
 "cells": [
  {
   "cell_type": "markdown",
   "id": "ef498629",
   "metadata": {
    "papermill": {
     "duration": 0.004461,
     "end_time": "2025-02-24T20:43:40.267478",
     "exception": false,
     "start_time": "2025-02-24T20:43:40.263017",
     "status": "completed"
    },
    "tags": []
   },
   "source": [
    "# ESTIMATES OF VARIABILITY (DISPERSION) : \n",
    "## It tells us whether the data points are closely pucked around the central value or spread out from it.\n",
    "## It gives a descriptive summary of the numerical data. "
   ]
  },
  {
   "cell_type": "markdown",
   "id": "f3434eaf",
   "metadata": {
    "papermill": {
     "duration": 0.00293,
     "end_time": "2025-02-24T20:43:40.274092",
     "exception": false,
     "start_time": "2025-02-24T20:43:40.271162",
     "status": "completed"
    },
    "tags": []
   },
   "source": [
    "# Variance :\n",
    "### It is the sum of squared deviations from the mean divided by n-1, where n is the number of data values.\n",
    "### Formula: "
   ]
  },
  {
   "cell_type": "code",
   "execution_count": null,
   "id": "7ede210e",
   "metadata": {
    "_cell_guid": "b1076dfc-b9ad-4769-8c92-a6c4dae69d19",
    "_uuid": "8f2839f25d086af736a60e9eeb907d3b93b6e0e5",
    "papermill": {
     "duration": 0.002906,
     "end_time": "2025-02-24T20:43:40.280764",
     "exception": false,
     "start_time": "2025-02-24T20:43:40.277858",
     "status": "completed"
    },
    "tags": []
   },
   "outputs": [],
   "source": []
  },
  {
   "cell_type": "markdown",
   "id": "4609346b",
   "metadata": {
    "papermill": {
     "duration": 0.003025,
     "end_time": "2025-02-24T20:43:40.287079",
     "exception": false,
     "start_time": "2025-02-24T20:43:40.284054",
     "status": "completed"
    },
    "tags": []
   },
   "source": [
    "# Standard Deviation :\n",
    "### It is the square root of the variance."
   ]
  },
  {
   "cell_type": "code",
   "execution_count": null,
   "id": "bd15f0e9",
   "metadata": {
    "papermill": {
     "duration": 0.003288,
     "end_time": "2025-02-24T20:43:40.293794",
     "exception": false,
     "start_time": "2025-02-24T20:43:40.290506",
     "status": "completed"
    },
    "tags": []
   },
   "outputs": [],
   "source": []
  },
  {
   "cell_type": "markdown",
   "id": "136ae243",
   "metadata": {
    "papermill": {
     "duration": 0.002969,
     "end_time": "2025-02-24T20:43:40.299951",
     "exception": false,
     "start_time": "2025-02-24T20:43:40.296982",
     "status": "completed"
    },
    "tags": []
   },
   "source": [
    "# Range :\n",
    "### It is the difference between the largest and smallest value in the dataset."
   ]
  },
  {
   "cell_type": "code",
   "execution_count": null,
   "id": "17c65e46",
   "metadata": {
    "papermill": {
     "duration": 0.002831,
     "end_time": "2025-02-24T20:43:40.305989",
     "exception": false,
     "start_time": "2025-02-24T20:43:40.303158",
     "status": "completed"
    },
    "tags": []
   },
   "outputs": [],
   "source": []
  },
  {
   "cell_type": "markdown",
   "id": "8dfbbe94",
   "metadata": {
    "papermill": {
     "duration": 0.002888,
     "end_time": "2025-02-24T20:43:40.312152",
     "exception": false,
     "start_time": "2025-02-24T20:43:40.309264",
     "status": "completed"
    },
    "tags": []
   },
   "source": [
    "# Interquartile Range (IQR) :\n",
    "### It is the difference between the third quantile (Q3) and the thirst quantile (Q1). In other words, it is the difference between the 75th percentile and the 25th percentile."
   ]
  },
  {
   "cell_type": "code",
   "execution_count": null,
   "id": "015c6cfa",
   "metadata": {
    "papermill": {
     "duration": 0.002845,
     "end_time": "2025-02-24T20:43:40.318139",
     "exception": false,
     "start_time": "2025-02-24T20:43:40.315294",
     "status": "completed"
    },
    "tags": []
   },
   "outputs": [],
   "source": []
  },
  {
   "cell_type": "markdown",
   "id": "f2c6fedb",
   "metadata": {
    "papermill": {
     "duration": 0.00279,
     "end_time": "2025-02-24T20:43:40.323970",
     "exception": false,
     "start_time": "2025-02-24T20:43:40.321180",
     "status": "completed"
    },
    "tags": []
   },
   "source": [
    "# Mean Absolute Deviation :\n",
    "### It is the mean of the absolute value of the deviations from the mean."
   ]
  },
  {
   "cell_type": "code",
   "execution_count": null,
   "id": "7156d6aa",
   "metadata": {
    "papermill": {
     "duration": 0.002856,
     "end_time": "2025-02-24T20:43:40.329898",
     "exception": false,
     "start_time": "2025-02-24T20:43:40.327042",
     "status": "completed"
    },
    "tags": []
   },
   "outputs": [],
   "source": []
  },
  {
   "cell_type": "markdown",
   "id": "7e48c37b",
   "metadata": {
    "papermill": {
     "duration": 0.003086,
     "end_time": "2025-02-24T20:43:40.336050",
     "exception": false,
     "start_time": "2025-02-24T20:43:40.332964",
     "status": "completed"
    },
    "tags": []
   },
   "source": [
    "# Median Absolute Deviation from the Median :\n",
    "### It is the median of the absolute value of the deviations from the median."
   ]
  },
  {
   "cell_type": "code",
   "execution_count": null,
   "id": "61abcd3d",
   "metadata": {
    "papermill": {
     "duration": 0.002884,
     "end_time": "2025-02-24T20:43:40.342228",
     "exception": false,
     "start_time": "2025-02-24T20:43:40.339344",
     "status": "completed"
    },
    "tags": []
   },
   "outputs": [],
   "source": []
  },
  {
   "cell_type": "markdown",
   "id": "d7ad8e27",
   "metadata": {
    "papermill": {
     "duration": 0.002823,
     "end_time": "2025-02-24T20:43:40.348327",
     "exception": false,
     "start_time": "2025-02-24T20:43:40.345504",
     "status": "completed"
    },
    "tags": []
   },
   "source": [
    "# Ranks (Order Statistics) :\n",
    "### They are metrics based on the data values sorted from smallest to biggest."
   ]
  },
  {
   "cell_type": "markdown",
   "id": "ce8a36bf",
   "metadata": {
    "papermill": {
     "duration": 0.002785,
     "end_time": "2025-02-24T20:43:40.354293",
     "exception": false,
     "start_time": "2025-02-24T20:43:40.351508",
     "status": "completed"
    },
    "tags": []
   },
   "source": [
    "# Some Key Takeaways :"
   ]
  },
  {
   "cell_type": "markdown",
   "id": "d7eed3e7",
   "metadata": {
    "papermill": {
     "duration": 0.003154,
     "end_time": "2025-02-24T20:43:40.360707",
     "exception": false,
     "start_time": "2025-02-24T20:43:40.357553",
     "status": "completed"
    },
    "tags": []
   },
   "source": [
    "### - The variance, standard deviation, range, IQR are not robust to outliers.\n",
    "### - The mean absolute deviation and the median absolute deviation from the median are the only estimates of variability resistant to extreme values.\n",
    "### - Deviations: the difference between the observed values and the estimate of location.\n",
    "### - When the data is categorical, there is no measure of variability to provide."
   ]
  },
  {
   "cell_type": "code",
   "execution_count": null,
   "id": "75a3394f",
   "metadata": {
    "papermill": {
     "duration": 0.002866,
     "end_time": "2025-02-24T20:43:40.366690",
     "exception": false,
     "start_time": "2025-02-24T20:43:40.363824",
     "status": "completed"
    },
    "tags": []
   },
   "outputs": [],
   "source": []
  }
 ],
 "metadata": {
  "kaggle": {
   "accelerator": "none",
   "dataSources": [],
   "dockerImageVersionId": 30918,
   "isGpuEnabled": false,
   "isInternetEnabled": true,
   "language": "python",
   "sourceType": "notebook"
  },
  "kernelspec": {
   "display_name": "Python 3",
   "language": "python",
   "name": "python3"
  },
  "language_info": {
   "codemirror_mode": {
    "name": "ipython",
    "version": 3
   },
   "file_extension": ".py",
   "mimetype": "text/x-python",
   "name": "python",
   "nbconvert_exporter": "python",
   "pygments_lexer": "ipython3",
   "version": "3.10.12"
  },
  "papermill": {
   "default_parameters": {},
   "duration": 3.797923,
   "end_time": "2025-02-24T20:43:40.890146",
   "environment_variables": {},
   "exception": null,
   "input_path": "__notebook__.ipynb",
   "output_path": "__notebook__.ipynb",
   "parameters": {},
   "start_time": "2025-02-24T20:43:37.092223",
   "version": "2.6.0"
  }
 },
 "nbformat": 4,
 "nbformat_minor": 5
}
